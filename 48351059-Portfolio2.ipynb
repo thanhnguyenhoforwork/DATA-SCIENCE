{
 "cells": [
  {
   "cell_type": "markdown",
   "id": "rSF_UH-XklO4",
   "metadata": {
    "id": "rSF_UH-XklO4"
   },
   "source": [
    "## Analysis of a Car Sell Dataset Part 2"
   ]
  },
  {
   "cell_type": "markdown",
   "id": "aWJHrXuwklO5",
   "metadata": {
    "id": "aWJHrXuwklO5"
   },
   "source": [
    "There are two goals in the second analysis task: (1), train linear regression models to predict the selling prices of cars; (2) assess the data ethics issues. There are *7* questions in this portfolio. \n",
    "\n",
    "The first goal involves a standard Data Science workflow: exploring data, building models, making predictions, and evaluating results. In this task, we will explore the impacts of feature selections and different sizes of training/testing data on the model performance. We will use another cleaned car_sells sub-dataset that **is different from** the one in “Analysis of a Car Sell Dataset” task 1. This goal covers Questions *1-6*. \n",
    "\n",
    "Question *7* is about data ethics issue."
   ]
  },
  {
   "cell_type": "code",
   "execution_count": 3,
   "id": "f2b11c57",
   "metadata": {},
   "outputs": [],
   "source": [
    "your_name = \"Thanh Nguyen Ho\"\n",
    "your_student_id = \"48351059\""
   ]
  },
  {
   "cell_type": "code",
   "execution_count": 4,
   "id": "0e327626",
   "metadata": {},
   "outputs": [],
   "source": [
    "import pandas as pd\n",
    "import numpy as np\n",
    "from sklearn.model_selection import train_test_split\n",
    "from sklearn import linear_model\n",
    "from sklearn.metrics import r2_score\n",
    "\n",
    "import seaborn as sns\n",
    "import matplotlib.pylab as plt\n",
    "%matplotlib inline"
   ]
  },
  {
   "cell_type": "markdown",
   "id": "0g4OhHHzklO6",
   "metadata": {
    "id": "0g4OhHHzklO6"
   },
   "source": [
    "### Q1: Import Cleaned Car Sell Dataset\n",
    "The csv file named 'car_sells_clean_data.csv' is provided. You may need to use the Pandas method, i.e., `read_csv`, for reading it. After that, please print out its total length."
   ]
  },
  {
   "cell_type": "code",
   "execution_count": 6,
   "id": "9ki1LBees70W",
   "metadata": {
    "colab": {
     "base_uri": "https://localhost:8080/"
    },
    "id": "9ki1LBees70W",
    "outputId": "d3ff4349-47d0-423b-ef22-caf78c9883f5"
   },
   "outputs": [],
   "source": [
    "column_names = ['name', 'year', 'selling_price', 'km_driven' , 'fuel' , 'seller_type' , 'transmission' , 'Owner' ]\n",
    "df = pd.read_csv('car_sells_clean_data.csv', header=None, names=column_names, skipinitialspace=True)"
   ]
  },
  {
   "cell_type": "markdown",
   "id": "RpXf1q3UklO7",
   "metadata": {
    "id": "RpXf1q3UklO7"
   },
   "source": [
    "### Q2: Explore the Dataset\n",
    "\n",
    "* Use the methods, i.e., `head()` and `info()`, to have a rough picture about the data, e.g., how many columns, and the data types of each column.\n",
    "* As our goal is to predict cars' selling prices given other columns, please get the correlations between year/km_driven/seller_type/fuel/owner and selling_price by using the `corr()` method.\n",
    "* To get the correlations between different features, you may need to first convert the categorical features (i.e., seller_type and owner) into numerial values. For doing this, you may need to import `OrdinalEncoder` from `sklearn.preprocessing` (refer to the useful exmaples [here](https://pbpython.com/categorical-encoding.html))\n",
    "* Please provide ___necessary explanations/analysis___ on the correlations, and figure out which are the ___most___ and ___least___ corrleated features regarding selling_price. Try to ___discuss___ how the correlation will affect the final prediction results, if we use these features to train a regression model for selling_price prediction. In what follows, we will conduct experiments to verify your hypothesis."
   ]
  },
  {
   "cell_type": "code",
   "execution_count": 8,
   "id": "7551c655",
   "metadata": {},
   "outputs": [
    {
     "data": {
      "text/html": [
       "<div>\n",
       "<style scoped>\n",
       "    .dataframe tbody tr th:only-of-type {\n",
       "        vertical-align: middle;\n",
       "    }\n",
       "\n",
       "    .dataframe tbody tr th {\n",
       "        vertical-align: top;\n",
       "    }\n",
       "\n",
       "    .dataframe thead th {\n",
       "        text-align: right;\n",
       "    }\n",
       "</style>\n",
       "<table border=\"1\" class=\"dataframe\">\n",
       "  <thead>\n",
       "    <tr style=\"text-align: right;\">\n",
       "      <th></th>\n",
       "      <th>name</th>\n",
       "      <th>year</th>\n",
       "      <th>selling_price</th>\n",
       "      <th>km_driven</th>\n",
       "      <th>fuel</th>\n",
       "      <th>seller_type</th>\n",
       "      <th>transmission</th>\n",
       "      <th>Owner</th>\n",
       "    </tr>\n",
       "  </thead>\n",
       "  <tbody>\n",
       "    <tr>\n",
       "      <th>1</th>\n",
       "      <td>Maruti 800 AC</td>\n",
       "      <td>2007.0</td>\n",
       "      <td>60000</td>\n",
       "      <td>70000</td>\n",
       "      <td>Petrol</td>\n",
       "      <td>Individual</td>\n",
       "      <td>Manual</td>\n",
       "      <td>First Owner</td>\n",
       "    </tr>\n",
       "    <tr>\n",
       "      <th>2</th>\n",
       "      <td>Maruti Wagon R LXI Minor</td>\n",
       "      <td>2007.0</td>\n",
       "      <td>135000</td>\n",
       "      <td>50000</td>\n",
       "      <td>Petrol</td>\n",
       "      <td>Individual</td>\n",
       "      <td>Manual</td>\n",
       "      <td>First Owner</td>\n",
       "    </tr>\n",
       "    <tr>\n",
       "      <th>3</th>\n",
       "      <td>Hyundai Verna 1.6 SX</td>\n",
       "      <td>2012.0</td>\n",
       "      <td>600000</td>\n",
       "      <td>100000</td>\n",
       "      <td>Diesel</td>\n",
       "      <td>Individual</td>\n",
       "      <td>Manual</td>\n",
       "      <td>First Owner</td>\n",
       "    </tr>\n",
       "    <tr>\n",
       "      <th>4</th>\n",
       "      <td>Datsun RediGO T Option</td>\n",
       "      <td>2017.0</td>\n",
       "      <td>250000</td>\n",
       "      <td>46000</td>\n",
       "      <td>Petrol</td>\n",
       "      <td>Individual</td>\n",
       "      <td>Manual</td>\n",
       "      <td>First Owner</td>\n",
       "    </tr>\n",
       "    <tr>\n",
       "      <th>5</th>\n",
       "      <td>Honda Amaze VX i-DTEC</td>\n",
       "      <td>2014.0</td>\n",
       "      <td>450000</td>\n",
       "      <td>141000</td>\n",
       "      <td>Diesel</td>\n",
       "      <td>Individual</td>\n",
       "      <td>Manual</td>\n",
       "      <td>Second Owner</td>\n",
       "    </tr>\n",
       "  </tbody>\n",
       "</table>\n",
       "</div>"
      ],
      "text/plain": [
       "                       name    year selling_price km_driven    fuel  \\\n",
       "1             Maruti 800 AC  2007.0         60000     70000  Petrol   \n",
       "2  Maruti Wagon R LXI Minor  2007.0        135000     50000  Petrol   \n",
       "3      Hyundai Verna 1.6 SX  2012.0        600000    100000  Diesel   \n",
       "4    Datsun RediGO T Option  2017.0        250000     46000  Petrol   \n",
       "5     Honda Amaze VX i-DTEC  2014.0        450000    141000  Diesel   \n",
       "\n",
       "  seller_type transmission         Owner  \n",
       "1  Individual       Manual   First Owner  \n",
       "2  Individual       Manual   First Owner  \n",
       "3  Individual       Manual   First Owner  \n",
       "4  Individual       Manual   First Owner  \n",
       "5  Individual       Manual  Second Owner  "
      ]
     },
     "execution_count": 8,
     "metadata": {},
     "output_type": "execute_result"
    }
   ],
   "source": [
    "df1= df.iloc[1:]\n",
    "df1.head()"
   ]
  },
  {
   "cell_type": "code",
   "execution_count": 9,
   "id": "3296d522-ebca-44da-a951-6496244a1772",
   "metadata": {},
   "outputs": [],
   "source": [
    "import matplotlib.pyplot as plt\n",
    "%matplotlib inline\n",
    "import seaborn as sns \n",
    "\n",
    "numerical = df1[[ 'year', 'km_driven', 'selling_price']]\n",
    "categorical =  df1[['seller_type' , 'transmission' , 'Owner', 'fuel' ]]\n"
   ]
  },
  {
   "cell_type": "code",
   "execution_count": 10,
   "id": "47f6b5cd",
   "metadata": {},
   "outputs": [
    {
     "data": {
      "text/html": [
       "<div>\n",
       "<style scoped>\n",
       "    .dataframe tbody tr th:only-of-type {\n",
       "        vertical-align: middle;\n",
       "    }\n",
       "\n",
       "    .dataframe tbody tr th {\n",
       "        vertical-align: top;\n",
       "    }\n",
       "\n",
       "    .dataframe thead th {\n",
       "        text-align: right;\n",
       "    }\n",
       "</style>\n",
       "<table border=\"1\" class=\"dataframe\">\n",
       "  <thead>\n",
       "    <tr style=\"text-align: right;\">\n",
       "      <th></th>\n",
       "      <th>year</th>\n",
       "      <th>km_driven</th>\n",
       "      <th>selling_price</th>\n",
       "    </tr>\n",
       "  </thead>\n",
       "  <tbody>\n",
       "    <tr>\n",
       "      <th>1</th>\n",
       "      <td>2007.0</td>\n",
       "      <td>70000</td>\n",
       "      <td>60000</td>\n",
       "    </tr>\n",
       "    <tr>\n",
       "      <th>2</th>\n",
       "      <td>2007.0</td>\n",
       "      <td>50000</td>\n",
       "      <td>135000</td>\n",
       "    </tr>\n",
       "    <tr>\n",
       "      <th>3</th>\n",
       "      <td>2012.0</td>\n",
       "      <td>100000</td>\n",
       "      <td>600000</td>\n",
       "    </tr>\n",
       "    <tr>\n",
       "      <th>4</th>\n",
       "      <td>2017.0</td>\n",
       "      <td>46000</td>\n",
       "      <td>250000</td>\n",
       "    </tr>\n",
       "    <tr>\n",
       "      <th>5</th>\n",
       "      <td>2014.0</td>\n",
       "      <td>141000</td>\n",
       "      <td>450000</td>\n",
       "    </tr>\n",
       "    <tr>\n",
       "      <th>...</th>\n",
       "      <td>...</td>\n",
       "      <td>...</td>\n",
       "      <td>...</td>\n",
       "    </tr>\n",
       "    <tr>\n",
       "      <th>3653</th>\n",
       "      <td>2014.0</td>\n",
       "      <td>80000</td>\n",
       "      <td>409999</td>\n",
       "    </tr>\n",
       "    <tr>\n",
       "      <th>3654</th>\n",
       "      <td>2014.0</td>\n",
       "      <td>80000</td>\n",
       "      <td>409999</td>\n",
       "    </tr>\n",
       "    <tr>\n",
       "      <th>3655</th>\n",
       "      <td>2009.0</td>\n",
       "      <td>83000</td>\n",
       "      <td>110000</td>\n",
       "    </tr>\n",
       "    <tr>\n",
       "      <th>3656</th>\n",
       "      <td>2016.0</td>\n",
       "      <td>90000</td>\n",
       "      <td>865000</td>\n",
       "    </tr>\n",
       "    <tr>\n",
       "      <th>3657</th>\n",
       "      <td>2016.0</td>\n",
       "      <td>40000</td>\n",
       "      <td>225000</td>\n",
       "    </tr>\n",
       "  </tbody>\n",
       "</table>\n",
       "<p>3657 rows × 3 columns</p>\n",
       "</div>"
      ],
      "text/plain": [
       "        year km_driven selling_price\n",
       "1     2007.0     70000         60000\n",
       "2     2007.0     50000        135000\n",
       "3     2012.0    100000        600000\n",
       "4     2017.0     46000        250000\n",
       "5     2014.0    141000        450000\n",
       "...      ...       ...           ...\n",
       "3653  2014.0     80000        409999\n",
       "3654  2014.0     80000        409999\n",
       "3655  2009.0     83000        110000\n",
       "3656  2016.0     90000        865000\n",
       "3657  2016.0     40000        225000\n",
       "\n",
       "[3657 rows x 3 columns]"
      ]
     },
     "execution_count": 10,
     "metadata": {},
     "output_type": "execute_result"
    }
   ],
   "source": [
    "numerical"
   ]
  },
  {
   "cell_type": "code",
   "execution_count": 11,
   "id": "f3bb91d1-7c71-4ae6-a6fa-cd890a1510b8",
   "metadata": {},
   "outputs": [
    {
     "data": {
      "text/html": [
       "<div>\n",
       "<style scoped>\n",
       "    .dataframe tbody tr th:only-of-type {\n",
       "        vertical-align: middle;\n",
       "    }\n",
       "\n",
       "    .dataframe tbody tr th {\n",
       "        vertical-align: top;\n",
       "    }\n",
       "\n",
       "    .dataframe thead th {\n",
       "        text-align: right;\n",
       "    }\n",
       "</style>\n",
       "<table border=\"1\" class=\"dataframe\">\n",
       "  <thead>\n",
       "    <tr style=\"text-align: right;\">\n",
       "      <th></th>\n",
       "      <th>seller_type</th>\n",
       "      <th>transmission</th>\n",
       "      <th>Owner</th>\n",
       "      <th>fuel</th>\n",
       "    </tr>\n",
       "  </thead>\n",
       "  <tbody>\n",
       "    <tr>\n",
       "      <th>1</th>\n",
       "      <td>Individual</td>\n",
       "      <td>Manual</td>\n",
       "      <td>First Owner</td>\n",
       "      <td>Petrol</td>\n",
       "    </tr>\n",
       "    <tr>\n",
       "      <th>2</th>\n",
       "      <td>Individual</td>\n",
       "      <td>Manual</td>\n",
       "      <td>First Owner</td>\n",
       "      <td>Petrol</td>\n",
       "    </tr>\n",
       "    <tr>\n",
       "      <th>3</th>\n",
       "      <td>Individual</td>\n",
       "      <td>Manual</td>\n",
       "      <td>First Owner</td>\n",
       "      <td>Diesel</td>\n",
       "    </tr>\n",
       "    <tr>\n",
       "      <th>4</th>\n",
       "      <td>Individual</td>\n",
       "      <td>Manual</td>\n",
       "      <td>First Owner</td>\n",
       "      <td>Petrol</td>\n",
       "    </tr>\n",
       "    <tr>\n",
       "      <th>5</th>\n",
       "      <td>Individual</td>\n",
       "      <td>Manual</td>\n",
       "      <td>Second Owner</td>\n",
       "      <td>Diesel</td>\n",
       "    </tr>\n",
       "    <tr>\n",
       "      <th>...</th>\n",
       "      <td>...</td>\n",
       "      <td>...</td>\n",
       "      <td>...</td>\n",
       "      <td>...</td>\n",
       "    </tr>\n",
       "    <tr>\n",
       "      <th>3653</th>\n",
       "      <td>Individual</td>\n",
       "      <td>Manual</td>\n",
       "      <td>Second Owner</td>\n",
       "      <td>Diesel</td>\n",
       "    </tr>\n",
       "    <tr>\n",
       "      <th>3654</th>\n",
       "      <td>Individual</td>\n",
       "      <td>Manual</td>\n",
       "      <td>Second Owner</td>\n",
       "      <td>Diesel</td>\n",
       "    </tr>\n",
       "    <tr>\n",
       "      <th>3655</th>\n",
       "      <td>Individual</td>\n",
       "      <td>Manual</td>\n",
       "      <td>Second Owner</td>\n",
       "      <td>Petrol</td>\n",
       "    </tr>\n",
       "    <tr>\n",
       "      <th>3656</th>\n",
       "      <td>Individual</td>\n",
       "      <td>Manual</td>\n",
       "      <td>First Owner</td>\n",
       "      <td>Diesel</td>\n",
       "    </tr>\n",
       "    <tr>\n",
       "      <th>3657</th>\n",
       "      <td>Individual</td>\n",
       "      <td>Manual</td>\n",
       "      <td>First Owner</td>\n",
       "      <td>Petrol</td>\n",
       "    </tr>\n",
       "  </tbody>\n",
       "</table>\n",
       "<p>3657 rows × 4 columns</p>\n",
       "</div>"
      ],
      "text/plain": [
       "     seller_type transmission         Owner    fuel\n",
       "1     Individual       Manual   First Owner  Petrol\n",
       "2     Individual       Manual   First Owner  Petrol\n",
       "3     Individual       Manual   First Owner  Diesel\n",
       "4     Individual       Manual   First Owner  Petrol\n",
       "5     Individual       Manual  Second Owner  Diesel\n",
       "...          ...          ...           ...     ...\n",
       "3653  Individual       Manual  Second Owner  Diesel\n",
       "3654  Individual       Manual  Second Owner  Diesel\n",
       "3655  Individual       Manual  Second Owner  Petrol\n",
       "3656  Individual       Manual   First Owner  Diesel\n",
       "3657  Individual       Manual   First Owner  Petrol\n",
       "\n",
       "[3657 rows x 4 columns]"
      ]
     },
     "execution_count": 11,
     "metadata": {},
     "output_type": "execute_result"
    }
   ],
   "source": [
    "categorical"
   ]
  },
  {
   "cell_type": "code",
   "execution_count": 12,
   "id": "2137f7e5-50fd-4fc3-80c0-15fd994d3ec0",
   "metadata": {},
   "outputs": [
    {
     "name": "stdout",
     "output_type": "stream",
     "text": [
      "                   year  km_driven  selling_price\n",
      "year           1.000000  -0.404058       0.411103\n",
      "km_driven     -0.404058   1.000000      -0.177203\n",
      "selling_price  0.411103  -0.177203       1.000000\n"
     ]
    },
    {
     "data": {
      "image/png": "[encoded data removed]",
      "text/plain": [
       "<Figure size 800x600 with 2 Axes>"
      ]
     },
     "metadata": {},
     "output_type": "display_data"
    }
   ],
   "source": [
    "correlation_matrix = numerical.corr()\n",
    "print(correlation_matrix)\n",
    "\n",
    "plt.figure(figsize=(8, 6))\n",
    "sns.heatmap(correlation_matrix, annot=True, fmt=\".2f\", cmap='coolwarm', linewidths=0.5, cbar=True)\n",
    "\n",
    "\n",
    "plt.title('Correlation Matrix', fontsize=16)\n",
    "plt.xticks(fontsize=12)\n",
    "plt.yticks(fontsize=12)\n",
    "\n",
    "\n",
    "plt.show()"
   ]
  },
  {
   "cell_type": "markdown",
   "id": "C3DFUuGXklO_",
   "metadata": {
    "id": "C3DFUuGXklO_"
   },
   "source": [
    "### Q3: Split Training and Testing Data\n",
    "* Machine learning models are trained to help make predictions for the future. Normally, we need to randomly split the dataset into training and testing sets, where we use the training set to train the model, and then leverage the well-trained model to make predictions on the testing set.\n",
    "* To further investigate whether the size of the training/testing data affects the model performance, please randomly split the data into training and testing sets with different sizes:\n",
    "    * Case 1: training data containing 10% of the entire data;\n",
    "    * Case 2: training data containing 90% of the entire data.\n",
    "* Print the shape of training and testing sets in the two cases."
   ]
  },
  {
   "cell_type": "code",
   "execution_count": 15,
   "id": "0725af35-33c3-4488-bde1-cdddfc63c2cf",
   "metadata": {},
   "outputs": [
    {
     "data": {
      "text/plain": [
       "((365, 2024), (3292, 2024), (3291, 2024), (366, 2024))"
      ]
     },
     "execution_count": 15,
     "metadata": {},
     "output_type": "execute_result"
    }
   ],
   "source": [
    "from sklearn.model_selection import train_test_split\n",
    "\n",
    "# Define the features (X) and the target variable (y)\n",
    "X = df1.drop(columns=['selling_price'])\n",
    "y = df1['selling_price']\n",
    "\n",
    "# Convert categorical variables into dummy/indicator variables\n",
    "X = pd.get_dummies(X, drop_first=True)\n",
    "\n",
    "# Case 1: Training on 10% of the data\n",
    "X_train_10, X_test_90, y_train_10, y_test_90 = train_test_split(X, y, test_size=0.9, random_state=42)\n",
    "\n",
    "# Case 2: Training on 90% of the data\n",
    "X_train_90, X_test_10, y_train_90, y_test_10 = train_test_split(X, y, test_size=0.1, random_state=42)\n",
    "\n",
    "# Print the shape of the training and testing sets for both cases\n",
    "(X_train_10.shape, X_test_90.shape, X_train_90.shape, X_test_10.shape)\n"
   ]
  },
  {
   "cell_type": "markdown",
   "id": "WiNRCPFoklO_",
   "metadata": {
    "id": "WiNRCPFoklO_"
   },
   "source": [
    "### Q4: Train Linear Regression Models with Feature Selection under Cases 1 & 2\n",
    "* When training a machine learning model for prediction, we may need to select the most important/correlated input features for more accurate results.\n",
    "* To investigate whether feature selection affects the model performance, please select two most correlated features and two least correlated features regarding selling_price, respectively.\n",
    "* Train four linear regression models by following the conditions:\n",
    "    - (model-a) using the training/testing data in case 1 with two most correlated input features\n",
    "    - (model-b) using the training/testing data in case 1 with two least correlated input features\n",
    "    - (model-c) using the training/testing data in case 2 with two most correlated input features\n",
    "    - (model-d) using the training/testing data in case 2 with two least correlated input features\n",
    "* By doing this, we can verify the impacts of the size of traing/testing data on the model performance via comparing model-a and model-c (or model-b and model-d); meanwhile the impacts of feature selection can be validated via comparing model-a and model-b (or model-c and model-d).    "
   ]
  },
  {
   "cell_type": "code",
   "execution_count": 60,
   "id": "7bcd6158",
   "metadata": {
    "scrolled": true
   },
   "outputs": [
    {
     "name": "stdout",
     "output_type": "stream",
     "text": [
      "Model-a MSE: 204257472798.50436\n",
      "Model-b MSE: 204257472798.50436\n",
      "Model-c MSE: 219142056598.72705\n",
      "Model-d MSE: 219142056598.72705\n"
     ]
    }
   ],
   "source": [
    "from sklearn.linear_model import LinearRegression \n",
    "from sklearn.metrics import mean_squared_error\n",
    "from sklearn.feature_selection import mutual_info_regression\n",
    "correlation_matrix = numerical.corr()\n",
    "corr_with_target =correlation_matrix['selling_price'].abs().sort_values(ascending=False)\n",
    "\n",
    "most_correlated_features = corr_with_target.index[1:3].tolist()\n",
    "least_correlated_features = corr_with_target.index[-2:].tolist()\n",
    "#module a\n",
    "X_train_a = X_train1[most_correlated_features]\n",
    "X_test_a = X_test1[most_correlated_features]\n",
    "model_a = LinearRegression()\n",
    "model_a.fit(X_train_a, y_train1)\n",
    "y_pred_a = model_a.predict(X_test_a)\n",
    "mse_a = mean_squared_error(y_test1, y_pred_a)\n",
    "#module b\n",
    "X_train_b = X_train1[least_correlated_features]\n",
    "X_test_b = X_test1[least_correlated_features]\n",
    "model_b = LinearRegression()\n",
    "model_b.fit(X_train_b, y_train1)\n",
    "y_pred_b = model_b.predict(X_test_b)\n",
    "mse_b = mean_squared_error(y_test1, y_pred_b)\n",
    "#modulec\n",
    "X_train_c = X_train2[most_correlated_features]\n",
    "X_test_c = X_test2[most_correlated_features]\n",
    "model_c = LinearRegression()\n",
    "model_c.fit(X_train_c, y_train2)\n",
    "y_pred_c = model_c.predict(X_test_c)\n",
    "mse_c = mean_squared_error(y_test2, y_pred_c)\n",
    "#moduled\n",
    "X_train_d = X_train2[least_correlated_features]\n",
    "X_test_d = X_test2[least_correlated_features]\n",
    "model_d = LinearRegression()\n",
    "model_d.fit(X_train_d, y_train2)\n",
    "y_pred_d = model_d.predict(X_test_d)\n",
    "mse_d = mean_squared_error(y_test2, y_pred_d)\n",
    "\n",
    "print(\"Model-a MSE:\", mse_a)\n",
    "print(\"Model-b MSE:\", mse_b)\n",
    "print(\"Model-c MSE:\", mse_c)\n",
    "print(\"Model-d MSE:\", mse_d)"
   ]
  },
  {
   "cell_type": "markdown",
   "id": "uIHDIRCYklO_",
   "metadata": {
    "id": "uIHDIRCYklO_"
   },
   "source": [
    "### Q5: Evaluate Models\n",
    "* Evaluate the performance of the four models with two metrics, including MSE and Root MSE\n",
    "* Print the results of the four models regarding the two metrics"
   ]
  },
  {
   "cell_type": "code",
   "execution_count": 62,
   "id": "61621c39",
   "metadata": {},
   "outputs": [
    {
     "name": "stdout",
     "output_type": "stream",
     "text": [
      "Model-a:\n",
      "MSE: 204257472798.50436\n",
      "RMSE: 451948.5289261426\n",
      "\n",
      "Model-b:\n",
      "MSE: 204257472798.50436\n",
      "RMSE: 451948.5289261426\n",
      "\n",
      "Model-c:\n",
      "MSE: 219142056598.72705\n",
      "RMSE: 468126.1118531277\n",
      "\n",
      "Model-d:\n",
      "MSE: 219142056598.72705\n",
      "RMSE: 468126.1118531277\n"
     ]
    }
   ],
   "source": [
    "import math\n",
    "\n",
    "# Calculate MSE and RMSE for each model\n",
    "mse_a = mean_squared_error(y_test1, y_pred_a)\n",
    "rmse_a = math.sqrt(mse_a)\n",
    "mse_b = mean_squared_error(y_test1, y_pred_b)\n",
    "rmse_b = math.sqrt(mse_b)\n",
    "mse_c = mean_squared_error(y_test2, y_pred_c)\n",
    "rmse_c = math.sqrt(mse_c)\n",
    "mse_d = mean_squared_error(y_test2, y_pred_d)\n",
    "rmse_d = math.sqrt(mse_d)\n",
    "\n",
    "# Print the results\n",
    "print(\"Model-a:\")\n",
    "print(\"MSE:\", mse_a)\n",
    "print(\"RMSE:\", rmse_a)\n",
    "print()\n",
    "print(\"Model-b:\")\n",
    "print(\"MSE:\", mse_b)\n",
    "print(\"RMSE:\", rmse_b)\n",
    "print()\n",
    "print(\"Model-c:\")\n",
    "print(\"MSE:\", mse_c)\n",
    "print(\"RMSE:\", rmse_c)\n",
    "print()\n",
    "print(\"Model-d:\")\n",
    "print(\"MSE:\", mse_d)\n",
    "print(\"RMSE:\", rmse_d)"
   ]
  },
  {
   "cell_type": "markdown",
   "id": "6wmgPAzpklPA",
   "metadata": {
    "id": "6wmgPAzpklPA"
   },
   "source": [
    "### Q6: Visualize, Compare and Analyze the Results\n",
    "* Visulize the results, and perform ___insightful analysis___ on the obtained results. For better visualization, you may need to carefully set the scale for the y-axis.\n",
    "* Normally, the model trained with most correlated features and more training data will get better results. Do you obtain the similar observations? If not, please ___explain the possible reasons___."
   ]
  },
  {
   "cell_type": "code",
   "execution_count": 64,
   "id": "u0dpqTCmklPA",
   "metadata": {
    "id": "u0dpqTCmklPA"
   },
   "outputs": [
    {
     "data": {
      "image/png": "[encoded data removed]",
      "text/plain": [
       "<Figure size 640x480 with 1 Axes>"
      ]
     },
     "metadata": {},
     "output_type": "display_data"
    }
   ],
   "source": [
    "import matplotlib.pyplot as plt\n",
    "\n",
    "fig, ax = plt.subplots()\n",
    "x_labels = ['Model-a', 'Model-b', 'Model-c', 'Model-d']\n",
    "ax.set_ylabel('Error')\n",
    "ax.set_title('MSE and RMSE Comparison')\n",
    "ax.bar(x_labels, [mse_a, mse_b, mse_c, mse_d], label='MSE')\n",
    "ax.bar(x_labels, [rmse_a, rmse_b, rmse_c, rmse_d], label='RMSE')\n",
    "ax.set_ylim([0, 10])  # adjust the scale as needed\n",
    "ax.legend()\n",
    "\n",
    "plt.show()"
   ]
  },
  {
   "cell_type": "markdown",
   "id": "f97796c2",
   "metadata": {},
   "source": [
    "### Q7: Data Science Ethics\n",
    "*Please read the following examples [Click here to read the example_1.](https://www.vox.com/covid-19-coronavirus-us-response-trump/2020/5/18/21262265/georgia-covid-19-cases-declining-reopening) [Click here to read the example_2.](https://viborc.com/ethics-and-ethical-data-visualization-a-complete-guide/)\n",
    "\n",
    "*Then view the picture ![My Image](figure_portfolio2.png \"This is my image\")\n",
    "Please compose an analysis of 100-200 words that evaluates potential ethical concerns associated with the infographic, detailing the reasons behind these issues.\n"
   ]
  },
  {
   "cell_type": "markdown",
   "id": "6f37fa67-d1f4-4598-b182-26dcb6e7f344",
   "metadata": {},
   "source": [
    "A number of ethical concerns related to data representation and interpretation arise from the following infographics on the medals in the 2008 Summer Olympics.\n",
    "Comparisons by the country according to total medals versus gold medals may thus be misleading. Whereas Table 1 emphasizes total medals, implying an overall athletic competence, Table 2 refers to gold medals and suggests a different storyline of sporting excellence. Such selective representation can easily mislead the perception of the citizens and bias national performance and superiority conversatio. \n",
    "\r\n",
    "Moreover, visual features, such as color or design motifs, can introduce bias in their own right, like favoring one country over another. Poor or over-elaborate design features can be misinterpreted if not appropriately addressed; these could potentially harm the validity of the information conve .\r\n",
    "\r\n",
    "Besides, it's also a question of context in which such information is sared. Unless geopolitical considerations or investment in sports is clearly explained behind these statistics, viewers will tend to form opinions based on this numeric representation rather than a nuanced understanding of sporting achiev.  ts.\r\n",
    "\r\n",
    "Ethical data visualization ensures the information depicted is accurate, clear, and contextually appropriate, affording all who view the display the ability to understand the information presented with no distortion or bias. Being cognizant of these concerns should be fundamental in preserving the integrity of data communication in sports analytics."
   ]
  },
  {
   "cell_type": "code",
   "execution_count": null,
   "id": "3df59669-5e3b-46f3-abd0-318fdaa65c1b",
   "metadata": {},
   "outputs": [],
   "source": []
  }
 ],
 "metadata": {
  "colab": {
   "provenance": []
  },
  "kernelspec": {
   "display_name": "Python 3 (ipykernel)",
   "language": "python",
   "name": "python3"
  },
  "language_info": {
   "codemirror_mode": {
    "name": "ipython",
    "version": 3
   },
   "file_extension": ".py",
   "mimetype": "text/x-python",
   "name": "python",
   "nbconvert_exporter": "python",
   "pygments_lexer": "ipython3",
   "version": "3.12.4"
  }
 },
 "nbformat": 4,
 "nbformat_minor": 5
}
