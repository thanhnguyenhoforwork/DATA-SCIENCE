{
 "cells": [
  {
   "cell_type": "markdown",
   "id": "skHfgkqlqndO",
   "metadata": {
    "id": "skHfgkqlqndO"
   },
   "source": [
    "## Analysis of a car sell record Dataset\n",
    "\n",
    "We have been provided with a car sell record dataset. In this dataset, we have thounds of car sell records.\n",
    "\n",
    "The structure of this dataset is represented in the header shown below.\n",
    "\n",
    "name\n",
    "year\n",
    "selling_price\n",
    "km_driven\n",
    "fuel\n",
    "seller_type\n",
    "transmission\n",
    "Owner\n",
    "\n",
    "| name | year | selling_price | km_driven| fuel | seller_type | transmission | Owner |\n",
    "\n",
    "    | ---- | ---- | ---- | ---- | ---- | ---- | ---- | ---- |   \n",
    "    \n",
    "#### Description of Fields\n",
    "\n",
    "* __name__ - detail car type of the sold car\n",
    "* __year__ - Year of the car when it was bought\n",
    "* __selling_price__ - Price at which the car is being sold\n",
    "* __km_driven__ - Number of Kilometres the car is driven\n",
    "* __fuel__ - Fuel type of car (petrol / diesel / CNG / LPG / electric)\n",
    "* __seller_type__ - Tells if a Seller is Individual or a Dealer\n",
    "* __transmission__ - Gear transmission of the car (Automatic/Manual)\n",
    "* __owner__ - Number of previous owners of the car.\n",
    "\n",
    "There are four questions to explore with the data as shown below.\n"
   ]
  },
  {
   "cell_type": "code",
   "execution_count": 2,
   "id": "zNTpU9ToS8QK",
   "metadata": {
    "id": "zNTpU9ToS8QK"
   },
   "outputs": [],
   "source": [
    "your_name = \"Thanh Nguyen Ho\"\n",
    "your_student_id = \"48351059\""
   ]
  },
  {
   "cell_type": "code",
   "execution_count": 3,
   "id": "giZ_rSg8ezK6",
   "metadata": {
    "colab": {
     "base_uri": "https://localhost:8080/"
    },
    "executionInfo": {
     "elapsed": 100002,
     "status": "ok",
     "timestamp": 1710290642987,
     "user": {
      "displayName": "Yuzhe Tian",
      "userId": "05567834028890049819"
     },
     "user_tz": -660
    },
    "id": "giZ_rSg8ezK6",
    "outputId": "5306c39c-4547-4a3c-a25a-b9bbef85cb8d"
   },
   "outputs": [],
   "source": [
    "# libraries you might need\n",
    "import pandas as pd\n",
    "import numpy as np\n",
    "import matplotlib.pyplot as plt\n",
    "%matplotlib inline\n"
   ]
  },
  {
   "cell_type": "markdown",
   "id": "-tb7B7VTqndQ",
   "metadata": {
    "id": "-tb7B7VTqndQ"
   },
   "source": [
    " ## Q1. Remove missing data\n",
    "\n",
    "Please remove the records that match ANY of the below two conditions in the csv file:\n",
    "\n",
    " * year is missing\n",
    " * fuel is 'none'\n",
    "\n",
    "__Display the DataFrame, counting number of Null values in each column, and print the length of the data__ before and after removing the missing data.  "
   ]
  },
  {
   "cell_type": "code",
   "execution_count": 5,
   "id": "1a3544fe-1f79-4502-bd7e-cc48cdae9228",
   "metadata": {},
   "outputs": [
    {
     "data": {
      "text/html": [
       "<div>\n",
       "<style scoped>\n",
       "    .dataframe tbody tr th:only-of-type {\n",
       "        vertical-align: middle;\n",
       "    }\n",
       "\n",
       "    .dataframe tbody tr th {\n",
       "        vertical-align: top;\n",
       "    }\n",
       "\n",
       "    .dataframe thead th {\n",
       "        text-align: right;\n",
       "    }\n",
       "</style>\n",
       "<table border=\"1\" class=\"dataframe\">\n",
       "  <thead>\n",
       "    <tr style=\"text-align: right;\">\n",
       "      <th></th>\n",
       "      <th>name</th>\n",
       "      <th>year</th>\n",
       "      <th>selling_price</th>\n",
       "      <th>km_driven</th>\n",
       "      <th>fuel</th>\n",
       "      <th>seller_type</th>\n",
       "      <th>transmission</th>\n",
       "      <th>Owner</th>\n",
       "    </tr>\n",
       "  </thead>\n",
       "  <tbody>\n",
       "    <tr>\n",
       "      <th>0.0</th>\n",
       "      <td>Maruti 800 AC</td>\n",
       "      <td>2007.0</td>\n",
       "      <td>60000</td>\n",
       "      <td>70000</td>\n",
       "      <td>Petrol</td>\n",
       "      <td>Individual</td>\n",
       "      <td>Manual</td>\n",
       "      <td>First Owner</td>\n",
       "    </tr>\n",
       "    <tr>\n",
       "      <th>1.0</th>\n",
       "      <td>Maruti Wagon R LXI Minor</td>\n",
       "      <td>2007.0</td>\n",
       "      <td>135000</td>\n",
       "      <td>50000</td>\n",
       "      <td>Petrol</td>\n",
       "      <td>Individual</td>\n",
       "      <td>Manual</td>\n",
       "      <td>First Owner</td>\n",
       "    </tr>\n",
       "    <tr>\n",
       "      <th>2.0</th>\n",
       "      <td>Hyundai Verna 1.6 SX</td>\n",
       "      <td>2012.0</td>\n",
       "      <td>600000</td>\n",
       "      <td>100000</td>\n",
       "      <td>Diesel</td>\n",
       "      <td>Individual</td>\n",
       "      <td>Manual</td>\n",
       "      <td>First Owner</td>\n",
       "    </tr>\n",
       "    <tr>\n",
       "      <th>3.0</th>\n",
       "      <td>Datsun RediGO T Option</td>\n",
       "      <td>2017.0</td>\n",
       "      <td>250000</td>\n",
       "      <td>46000</td>\n",
       "      <td>Petrol</td>\n",
       "      <td>Individual</td>\n",
       "      <td>Manual</td>\n",
       "      <td>First Owner</td>\n",
       "    </tr>\n",
       "    <tr>\n",
       "      <th>4.0</th>\n",
       "      <td>Honda Amaze VX i-DTEC</td>\n",
       "      <td>2014.0</td>\n",
       "      <td>450000</td>\n",
       "      <td>141000</td>\n",
       "      <td>Diesel</td>\n",
       "      <td>Individual</td>\n",
       "      <td>Manual</td>\n",
       "      <td>Second Owner</td>\n",
       "    </tr>\n",
       "  </tbody>\n",
       "</table>\n",
       "</div>"
      ],
      "text/plain": [
       "                         name    year selling_price km_driven    fuel  \\\n",
       "0.0             Maruti 800 AC  2007.0         60000     70000  Petrol   \n",
       "1.0  Maruti Wagon R LXI Minor  2007.0        135000     50000  Petrol   \n",
       "2.0      Hyundai Verna 1.6 SX  2012.0        600000    100000  Diesel   \n",
       "3.0    Datsun RediGO T Option  2017.0        250000     46000  Petrol   \n",
       "4.0     Honda Amaze VX i-DTEC  2014.0        450000    141000  Diesel   \n",
       "\n",
       "    seller_type transmission         Owner  \n",
       "0.0  Individual       Manual   First Owner  \n",
       "1.0  Individual       Manual   First Owner  \n",
       "2.0  Individual       Manual   First Owner  \n",
       "3.0  Individual       Manual   First Owner  \n",
       "4.0  Individual       Manual  Second Owner  "
      ]
     },
     "execution_count": 5,
     "metadata": {},
     "output_type": "execute_result"
    }
   ],
   "source": [
    "column_names = ['name', 'year', 'selling_price', 'km_driven' , 'fuel' , 'seller_type' , 'transmission' , 'Owner' ]\n",
    "\n",
    "df = pd.read_csv('car_sell.csv', header=None, names=column_names, skipinitialspace=True)\n",
    "df1= df.iloc[1:]\n",
    "df1.head()"
   ]
  },
  {
   "cell_type": "code",
   "execution_count": 6,
   "id": "0db93063-e265-4f37-833c-8db79d1bbd88",
   "metadata": {},
   "outputs": [
    {
     "data": {
      "text/plain": [
       "(4340, 8)"
      ]
     },
     "execution_count": 6,
     "metadata": {},
     "output_type": "execute_result"
    }
   ],
   "source": [
    "# checking dataframe shape\n",
    "df1.shape"
   ]
  },
  {
   "cell_type": "code",
   "execution_count": 7,
   "id": "9e21a825-8613-4484-814d-b51be58a1278",
   "metadata": {},
   "outputs": [
    {
     "name": "stdout",
     "output_type": "stream",
     "text": [
      "Index(['name', 'year', 'selling_price', 'km_driven', 'fuel', 'seller_type',\n",
      "       'transmission', 'Owner'],\n",
      "      dtype='object')\n"
     ]
    }
   ],
   "source": [
    "print(df1.columns)"
   ]
  },
  {
   "cell_type": "code",
   "execution_count": 8,
   "id": "6d8702d8-f691-46e1-9372-ec1ced6647ff",
   "metadata": {},
   "outputs": [
    {
     "name": "stdout",
     "output_type": "stream",
     "text": [
      "<class 'pandas.core.frame.DataFrame'>\n",
      "Index: 4340 entries, 0.0 to 4339.0\n",
      "Data columns (total 8 columns):\n",
      " #   Column         Non-Null Count  Dtype \n",
      "---  ------         --------------  ----- \n",
      " 0   name           4340 non-null   object\n",
      " 1   year           4030 non-null   object\n",
      " 2   selling_price  4340 non-null   object\n",
      " 3   km_driven      4340 non-null   object\n",
      " 4   fuel           4340 non-null   object\n",
      " 5   seller_type    4340 non-null   object\n",
      " 6   transmission   4340 non-null   object\n",
      " 7   Owner          4340 non-null   object\n",
      "dtypes: object(8)\n",
      "memory usage: 305.2+ KB\n"
     ]
    }
   ],
   "source": [
    "# checking dataframe info\n",
    "df1.info()"
   ]
  },
  {
   "cell_type": "code",
   "execution_count": 9,
   "id": "96484cbb-3be4-4953-a335-67e0a7d5cc99",
   "metadata": {},
   "outputs": [
    {
     "name": "stdout",
     "output_type": "stream",
     "text": [
      "Null values before cleaning:\n",
      "name               0\n",
      "year             310\n",
      "selling_price      0\n",
      "km_driven          0\n",
      "fuel               0\n",
      "seller_type        0\n",
      "transmission       0\n",
      "Owner              0\n",
      "dtype: int64\n"
     ]
    }
   ],
   "source": [
    "#before removing the missing data\n",
    "df1_cleaned = df1.dropna(subset=['year'])\n",
    "df1_cleaned = df1_cleaned[df1_cleaned['fuel'].str.lower() != 'none']\n",
    "\n",
    "print('Null values before cleaning:')\n",
    "print(df1.isnull().sum())\n"
   ]
  },
  {
   "cell_type": "code",
   "execution_count": 10,
   "id": "ba431547-beca-4a12-82a5-9ead0fbf7564",
   "metadata": {},
   "outputs": [
    {
     "name": "stdout",
     "output_type": "stream",
     "text": [
      "Length before cleaning: 3886\n"
     ]
    }
   ],
   "source": [
    "print('Length before cleaning:', len(df1_cleaned))"
   ]
  },
  {
   "cell_type": "code",
   "execution_count": 11,
   "id": "3518d527-3ddb-4f7d-bd22-65cf854ba60e",
   "metadata": {},
   "outputs": [
    {
     "name": "stdout",
     "output_type": "stream",
     "text": [
      "Null values after cleaning:\n",
      "name             0\n",
      "year             0\n",
      "selling_price    0\n",
      "km_driven        0\n",
      "fuel             0\n",
      "seller_type      0\n",
      "transmission     0\n",
      "Owner            0\n",
      "dtype: int64\n"
     ]
    }
   ],
   "source": [
    "#after removing the missing data\n",
    "print('Null values after cleaning:')\n",
    "print(df1_cleaned.isnull().sum())"
   ]
  },
  {
   "cell_type": "code",
   "execution_count": 12,
   "id": "26c3236a-8a55-4b8a-b387-97c1171e4045",
   "metadata": {
    "scrolled": true
   },
   "outputs": [
    {
     "name": "stdout",
     "output_type": "stream",
     "text": [
      "Length after cleaning: 3886\n"
     ]
    }
   ],
   "source": [
    "print('Length after cleaning:', len(df1_cleaned))"
   ]
  },
  {
   "cell_type": "code",
   "execution_count": 13,
   "id": "707e2557-c6c3-4ed2-85e6-4d68c26d9081",
   "metadata": {},
   "outputs": [
    {
     "data": {
      "text/html": [
       "<div>\n",
       "<style scoped>\n",
       "    .dataframe tbody tr th:only-of-type {\n",
       "        vertical-align: middle;\n",
       "    }\n",
       "\n",
       "    .dataframe tbody tr th {\n",
       "        vertical-align: top;\n",
       "    }\n",
       "\n",
       "    .dataframe thead th {\n",
       "        text-align: right;\n",
       "    }\n",
       "</style>\n",
       "<table border=\"1\" class=\"dataframe\">\n",
       "  <thead>\n",
       "    <tr style=\"text-align: right;\">\n",
       "      <th></th>\n",
       "      <th>name</th>\n",
       "      <th>year</th>\n",
       "      <th>selling_price</th>\n",
       "      <th>km_driven</th>\n",
       "      <th>fuel</th>\n",
       "      <th>seller_type</th>\n",
       "      <th>transmission</th>\n",
       "      <th>Owner</th>\n",
       "    </tr>\n",
       "  </thead>\n",
       "  <tbody>\n",
       "    <tr>\n",
       "      <th>0.0</th>\n",
       "      <td>Maruti 800 AC</td>\n",
       "      <td>2007.0</td>\n",
       "      <td>60000</td>\n",
       "      <td>70000</td>\n",
       "      <td>Petrol</td>\n",
       "      <td>Individual</td>\n",
       "      <td>Manual</td>\n",
       "      <td>First Owner</td>\n",
       "    </tr>\n",
       "    <tr>\n",
       "      <th>1.0</th>\n",
       "      <td>Maruti Wagon R LXI Minor</td>\n",
       "      <td>2007.0</td>\n",
       "      <td>135000</td>\n",
       "      <td>50000</td>\n",
       "      <td>Petrol</td>\n",
       "      <td>Individual</td>\n",
       "      <td>Manual</td>\n",
       "      <td>First Owner</td>\n",
       "    </tr>\n",
       "    <tr>\n",
       "      <th>2.0</th>\n",
       "      <td>Hyundai Verna 1.6 SX</td>\n",
       "      <td>2012.0</td>\n",
       "      <td>600000</td>\n",
       "      <td>100000</td>\n",
       "      <td>Diesel</td>\n",
       "      <td>Individual</td>\n",
       "      <td>Manual</td>\n",
       "      <td>First Owner</td>\n",
       "    </tr>\n",
       "    <tr>\n",
       "      <th>3.0</th>\n",
       "      <td>Datsun RediGO T Option</td>\n",
       "      <td>2017.0</td>\n",
       "      <td>250000</td>\n",
       "      <td>46000</td>\n",
       "      <td>Petrol</td>\n",
       "      <td>Individual</td>\n",
       "      <td>Manual</td>\n",
       "      <td>First Owner</td>\n",
       "    </tr>\n",
       "    <tr>\n",
       "      <th>4.0</th>\n",
       "      <td>Honda Amaze VX i-DTEC</td>\n",
       "      <td>2014.0</td>\n",
       "      <td>450000</td>\n",
       "      <td>141000</td>\n",
       "      <td>Diesel</td>\n",
       "      <td>Individual</td>\n",
       "      <td>Manual</td>\n",
       "      <td>Second Owner</td>\n",
       "    </tr>\n",
       "  </tbody>\n",
       "</table>\n",
       "</div>"
      ],
      "text/plain": [
       "                         name    year selling_price km_driven    fuel  \\\n",
       "0.0             Maruti 800 AC  2007.0         60000     70000  Petrol   \n",
       "1.0  Maruti Wagon R LXI Minor  2007.0        135000     50000  Petrol   \n",
       "2.0      Hyundai Verna 1.6 SX  2012.0        600000    100000  Diesel   \n",
       "3.0    Datsun RediGO T Option  2017.0        250000     46000  Petrol   \n",
       "4.0     Honda Amaze VX i-DTEC  2014.0        450000    141000  Diesel   \n",
       "\n",
       "    seller_type transmission         Owner  \n",
       "0.0  Individual       Manual   First Owner  \n",
       "1.0  Individual       Manual   First Owner  \n",
       "2.0  Individual       Manual   First Owner  \n",
       "3.0  Individual       Manual   First Owner  \n",
       "4.0  Individual       Manual  Second Owner  "
      ]
     },
     "execution_count": 13,
     "metadata": {},
     "output_type": "execute_result"
    }
   ],
   "source": [
    "# Display the first few rows of the cleaned DataFrame\n",
    "df1_cleaned.head()\n"
   ]
  },
  {
   "cell_type": "markdown",
   "id": "EJG9_LEmqndR",
   "metadata": {
    "id": "EJG9_LEmqndR"
   },
   "source": [
    "## Q2. Descriptive statistics\n",
    "\n",
    "With the cleaned data in Q1, please provide the data summarization as below:\n",
    "\n",
    "* Q2.1 total number of unique name, unique seller_type, unique transmission, and unique owner\n",
    "* Q2.2 descriptive statistics, including the total number, mean, std, min and max regarding all km_driven\n",
    "* Q2.3 descriptive statistics, including mean, std, max, and min of the number of selling_price grouped by different seller_type\n",
    "* Q2.4 descriptive statistics, including mean, std, max, min of the number of years that sold by each owner type\n"
   ]
  },
  {
   "cell_type": "code",
   "execution_count": 15,
   "id": "abe1ab04-6713-4694-a1d5-47948d9b0819",
   "metadata": {},
   "outputs": [
    {
     "name": "stdout",
     "output_type": "stream",
     "text": [
      "Unique names: 1402\n"
     ]
    }
   ],
   "source": [
    "# Q2.1 total number of unique name, unique seller_type, unique transmission, and unique owner\n",
    "unique_name = unique_name = df1_cleaned['name'].nunique()\n",
    "print(f\"Unique names: {unique_name}\")"
   ]
  },
  {
   "cell_type": "code",
   "execution_count": 16,
   "id": "83242e95-c0b4-4c59-a336-3c3c9f401509",
   "metadata": {},
   "outputs": [
    {
     "name": "stdout",
     "output_type": "stream",
     "text": [
      "Unique seller_type: 3\n"
     ]
    }
   ],
   "source": [
    "# Q2.1 \n",
    "unique_seller_type = unique_seller_type = df1_cleaned['seller_type'].nunique()\n",
    "print(f\"Unique seller_type: {unique_seller_type}\")"
   ]
  },
  {
   "cell_type": "code",
   "execution_count": 17,
   "id": "e5355ea9-3602-4261-91dd-ee07fe07cdcd",
   "metadata": {},
   "outputs": [
    {
     "name": "stdout",
     "output_type": "stream",
     "text": [
      "Unique transmission: 2\n"
     ]
    }
   ],
   "source": [
    "# Q2.1 \n",
    "unique_transmission = unique_transmission = df1_cleaned['transmission'].nunique()\n",
    "print(f\"Unique transmission: {unique_transmission}\")"
   ]
  },
  {
   "cell_type": "code",
   "execution_count": 18,
   "id": "8f9382a8-6ffd-488b-be6a-251a2091b929",
   "metadata": {},
   "outputs": [
    {
     "name": "stdout",
     "output_type": "stream",
     "text": [
      "Unique Owner: 5\n"
     ]
    }
   ],
   "source": [
    "# Q2.1 \n",
    "unique_Owner = unique_owner = df1_cleaned['Owner'].nunique()\n",
    "print(f\"Unique Owner: {unique_Owner}\")"
   ]
  },
  {
   "cell_type": "code",
   "execution_count": 19,
   "id": "125d567b-8a86-457e-af4c-36f05981adcd",
   "metadata": {},
   "outputs": [
    {
     "name": "stdout",
     "output_type": "stream",
     "text": [
      "Descriptive statistics for 'km_driven':\n",
      "count      4340.000000\n",
      "mean      66215.777419\n",
      "std       46644.102194\n",
      "min           1.000000\n",
      "25%       35000.000000\n",
      "50%       60000.000000\n",
      "75%       90000.000000\n",
      "max      806599.000000\n",
      "Name: km_driven, dtype: float64\n"
     ]
    }
   ],
   "source": [
    "# Q2.2 descriptive statistics, including the total number, mean, std, min and max regarding all km_driven\n",
    "km_driven = df1['km_driven']\n",
    "km_driven=pd.to_numeric(km_driven)\n",
    "km_driven_stats=km_driven.describe()\n",
    "print(\"Descriptive statistics for 'km_driven':\")\n",
    "print(km_driven_stats)"
   ]
  },
  {
   "cell_type": "code",
   "execution_count": 41,
   "id": "466bd6b6-e43b-4bec-a0b4-056b49aedba3",
   "metadata": {},
   "outputs": [
    {
     "data": {
      "text/html": [
       "<div>\n",
       "<style scoped>\n",
       "    .dataframe tbody tr th:only-of-type {\n",
       "        vertical-align: middle;\n",
       "    }\n",
       "\n",
       "    .dataframe tbody tr th {\n",
       "        vertical-align: top;\n",
       "    }\n",
       "\n",
       "    .dataframe thead th {\n",
       "        text-align: right;\n",
       "    }\n",
       "</style>\n",
       "<table border=\"1\" class=\"dataframe\">\n",
       "  <thead>\n",
       "    <tr style=\"text-align: right;\">\n",
       "      <th></th>\n",
       "      <th>count</th>\n",
       "      <th>mean</th>\n",
       "      <th>std</th>\n",
       "      <th>min</th>\n",
       "      <th>25%</th>\n",
       "      <th>50%</th>\n",
       "      <th>75%</th>\n",
       "      <th>max</th>\n",
       "    </tr>\n",
       "    <tr>\n",
       "      <th>seller_type</th>\n",
       "      <th></th>\n",
       "      <th></th>\n",
       "      <th></th>\n",
       "      <th></th>\n",
       "      <th></th>\n",
       "      <th></th>\n",
       "      <th></th>\n",
       "      <th></th>\n",
       "    </tr>\n",
       "  </thead>\n",
       "  <tbody>\n",
       "    <tr>\n",
       "      <th>Dealer</th>\n",
       "      <td>889.0</td>\n",
       "      <td>702093.314961</td>\n",
       "      <td>813597.811832</td>\n",
       "      <td>22000.0</td>\n",
       "      <td>300000.0</td>\n",
       "      <td>490000.0</td>\n",
       "      <td>746000.0</td>\n",
       "      <td>8900000.0</td>\n",
       "    </tr>\n",
       "    <tr>\n",
       "      <th>Individual</th>\n",
       "      <td>2903.0</td>\n",
       "      <td>421169.410265</td>\n",
       "      <td>420273.684129</td>\n",
       "      <td>20000.0</td>\n",
       "      <td>170000.0</td>\n",
       "      <td>300000.0</td>\n",
       "      <td>540000.0</td>\n",
       "      <td>4800000.0</td>\n",
       "    </tr>\n",
       "    <tr>\n",
       "      <th>Trustmark Dealer</th>\n",
       "      <td>94.0</td>\n",
       "      <td>935797.872340</td>\n",
       "      <td>655724.299195</td>\n",
       "      <td>315000.0</td>\n",
       "      <td>625000.0</td>\n",
       "      <td>750000.0</td>\n",
       "      <td>760000.0</td>\n",
       "      <td>2600000.0</td>\n",
       "    </tr>\n",
       "  </tbody>\n",
       "</table>\n",
       "</div>"
      ],
      "text/plain": [
       "                   count           mean            std       min       25%  \\\n",
       "seller_type                                                                  \n",
       "Dealer             889.0  702093.314961  813597.811832   22000.0  300000.0   \n",
       "Individual        2903.0  421169.410265  420273.684129   20000.0  170000.0   \n",
       "Trustmark Dealer    94.0  935797.872340  655724.299195  315000.0  625000.0   \n",
       "\n",
       "                       50%       75%        max  \n",
       "seller_type                                      \n",
       "Dealer            490000.0  746000.0  8900000.0  \n",
       "Individual        300000.0  540000.0  4800000.0  \n",
       "Trustmark Dealer  750000.0  760000.0  2600000.0  "
      ]
     },
     "execution_count": 41,
     "metadata": {},
     "output_type": "execute_result"
    }
   ],
   "source": [
    "# Q2.3 descriptive statistics, including mean, std, max, and min of the number of selling_price grouped by different seller_type\n",
    "df1_cleaned['selling_price']=pd.to_numeric(df1_cleaned['selling_price'])\n",
    "df1_cleaned.groupby(('seller_type')).selling_price.describe()\n"
   ]
  },
  {
   "cell_type": "code",
   "execution_count": 149,
   "id": "5403f428-0062-426e-8ac5-b75a9d4c5233",
   "metadata": {},
   "outputs": [
    {
     "data": {
      "text/html": [
       "<div>\n",
       "<style scoped>\n",
       "    .dataframe tbody tr th:only-of-type {\n",
       "        vertical-align: middle;\n",
       "    }\n",
       "\n",
       "    .dataframe tbody tr th {\n",
       "        vertical-align: top;\n",
       "    }\n",
       "\n",
       "    .dataframe thead th {\n",
       "        text-align: right;\n",
       "    }\n",
       "</style>\n",
       "<table border=\"1\" class=\"dataframe\">\n",
       "  <thead>\n",
       "    <tr style=\"text-align: right;\">\n",
       "      <th></th>\n",
       "      <th>count</th>\n",
       "      <th>mean</th>\n",
       "      <th>std</th>\n",
       "      <th>min</th>\n",
       "      <th>25%</th>\n",
       "      <th>50%</th>\n",
       "      <th>75%</th>\n",
       "      <th>max</th>\n",
       "    </tr>\n",
       "    <tr>\n",
       "      <th>Owner</th>\n",
       "      <th></th>\n",
       "      <th></th>\n",
       "      <th></th>\n",
       "      <th></th>\n",
       "      <th></th>\n",
       "      <th></th>\n",
       "      <th></th>\n",
       "      <th></th>\n",
       "    </tr>\n",
       "  </thead>\n",
       "  <tbody>\n",
       "    <tr>\n",
       "      <th>First Owner</th>\n",
       "      <td>2532.0</td>\n",
       "      <td>2014.453791</td>\n",
       "      <td>3.555597</td>\n",
       "      <td>1996.0</td>\n",
       "      <td>2012.00</td>\n",
       "      <td>2015.0</td>\n",
       "      <td>2017.0</td>\n",
       "      <td>2020.0</td>\n",
       "    </tr>\n",
       "    <tr>\n",
       "      <th>Fourth &amp; Above Owner</th>\n",
       "      <td>67.0</td>\n",
       "      <td>2007.238806</td>\n",
       "      <td>5.248635</td>\n",
       "      <td>1992.0</td>\n",
       "      <td>2004.00</td>\n",
       "      <td>2008.0</td>\n",
       "      <td>2010.5</td>\n",
       "      <td>2020.0</td>\n",
       "    </tr>\n",
       "    <tr>\n",
       "      <th>Second Owner</th>\n",
       "      <td>1000.0</td>\n",
       "      <td>2010.977000</td>\n",
       "      <td>3.840993</td>\n",
       "      <td>1995.0</td>\n",
       "      <td>2009.00</td>\n",
       "      <td>2011.5</td>\n",
       "      <td>2014.0</td>\n",
       "      <td>2019.0</td>\n",
       "    </tr>\n",
       "    <tr>\n",
       "      <th>Test Drive Car</th>\n",
       "      <td>14.0</td>\n",
       "      <td>2019.642857</td>\n",
       "      <td>0.633324</td>\n",
       "      <td>2018.0</td>\n",
       "      <td>2019.25</td>\n",
       "      <td>2020.0</td>\n",
       "      <td>2020.0</td>\n",
       "      <td>2020.0</td>\n",
       "    </tr>\n",
       "    <tr>\n",
       "      <th>Third Owner</th>\n",
       "      <td>273.0</td>\n",
       "      <td>2009.413919</td>\n",
       "      <td>3.920266</td>\n",
       "      <td>1997.0</td>\n",
       "      <td>2007.00</td>\n",
       "      <td>2010.0</td>\n",
       "      <td>2012.0</td>\n",
       "      <td>2019.0</td>\n",
       "    </tr>\n",
       "  </tbody>\n",
       "</table>\n",
       "</div>"
      ],
      "text/plain": [
       "                       count         mean       std     min      25%     50%  \\\n",
       "Owner                                                                          \n",
       "First Owner           2532.0  2014.453791  3.555597  1996.0  2012.00  2015.0   \n",
       "Fourth & Above Owner    67.0  2007.238806  5.248635  1992.0  2004.00  2008.0   \n",
       "Second Owner          1000.0  2010.977000  3.840993  1995.0  2009.00  2011.5   \n",
       "Test Drive Car          14.0  2019.642857  0.633324  2018.0  2019.25  2020.0   \n",
       "Third Owner            273.0  2009.413919  3.920266  1997.0  2007.00  2010.0   \n",
       "\n",
       "                         75%     max  \n",
       "Owner                                 \n",
       "First Owner           2017.0  2020.0  \n",
       "Fourth & Above Owner  2010.5  2020.0  \n",
       "Second Owner          2014.0  2019.0  \n",
       "Test Drive Car        2020.0  2020.0  \n",
       "Third Owner           2012.0  2019.0  "
      ]
     },
     "execution_count": 149,
     "metadata": {},
     "output_type": "execute_result"
    }
   ],
   "source": [
    "#Q2.4 descriptive statistics, including mean, std, max, min of the number of years that sold by each owner type\n",
    "df1_cleaned['year']=pd.to_numeric(df1_cleaned['year'])\n",
    "df1_cleaned.groupby(('Owner')).year.describe()"
   ]
  },
  {
   "cell_type": "markdown",
   "id": "PISggxe5qndR",
   "metadata": {
    "id": "PISggxe5qndR"
   },
   "source": [
    "## Q3. Plotting and Analysis\n",
    "\n",
    "Please try to explore the correlation between fuel/year/seller_type/transmission/owner and selling_price; for instance, do First Owner cars tend to sell higher prices than second owner cars? Hint: you may use the boxplot function to plot figures for comparison\n",
    "    \n",
    "You may need to select the most suitable graphic forms for ease of presentation. Most importantly, for each figure or subfigure, please summarise ___what each plot shows___ (i.e. observations and explanations). Finally, you are required to provide an overall summary of your findings from the plots you generated."
   ]
  },
  {
   "cell_type": "code",
   "execution_count": 106,
   "id": "197c2250-6af1-4e48-8b6e-cf2f51cf5e2b",
   "metadata": {},
   "outputs": [],
   "source": [
    "import matplotlib.pyplot as plt\n",
    "%matplotlib inline\n",
    "import seaborn as sns "
   ]
  },
  {
   "cell_type": "code",
   "execution_count": 114,
   "id": "cf20e109-8143-4018-8747-91aa763bbbcf",
   "metadata": {},
   "outputs": [
    {
     "data": {
      "text/html": [
       "<div>\n",
       "<style scoped>\n",
       "    .dataframe tbody tr th:only-of-type {\n",
       "        vertical-align: middle;\n",
       "    }\n",
       "\n",
       "    .dataframe tbody tr th {\n",
       "        vertical-align: top;\n",
       "    }\n",
       "\n",
       "    .dataframe thead th {\n",
       "        text-align: right;\n",
       "    }\n",
       "</style>\n",
       "<table border=\"1\" class=\"dataframe\">\n",
       "  <thead>\n",
       "    <tr style=\"text-align: right;\">\n",
       "      <th></th>\n",
       "      <th>seller_type</th>\n",
       "      <th>transmission</th>\n",
       "      <th>Owner</th>\n",
       "      <th>fuel</th>\n",
       "    </tr>\n",
       "  </thead>\n",
       "  <tbody>\n",
       "    <tr>\n",
       "      <th>0.0</th>\n",
       "      <td>Individual</td>\n",
       "      <td>Manual</td>\n",
       "      <td>First Owner</td>\n",
       "      <td>Petrol</td>\n",
       "    </tr>\n",
       "    <tr>\n",
       "      <th>1.0</th>\n",
       "      <td>Individual</td>\n",
       "      <td>Manual</td>\n",
       "      <td>First Owner</td>\n",
       "      <td>Petrol</td>\n",
       "    </tr>\n",
       "    <tr>\n",
       "      <th>2.0</th>\n",
       "      <td>Individual</td>\n",
       "      <td>Manual</td>\n",
       "      <td>First Owner</td>\n",
       "      <td>Diesel</td>\n",
       "    </tr>\n",
       "    <tr>\n",
       "      <th>3.0</th>\n",
       "      <td>Individual</td>\n",
       "      <td>Manual</td>\n",
       "      <td>First Owner</td>\n",
       "      <td>Petrol</td>\n",
       "    </tr>\n",
       "    <tr>\n",
       "      <th>4.0</th>\n",
       "      <td>Individual</td>\n",
       "      <td>Manual</td>\n",
       "      <td>Second Owner</td>\n",
       "      <td>Diesel</td>\n",
       "    </tr>\n",
       "    <tr>\n",
       "      <th>...</th>\n",
       "      <td>...</td>\n",
       "      <td>...</td>\n",
       "      <td>...</td>\n",
       "      <td>...</td>\n",
       "    </tr>\n",
       "    <tr>\n",
       "      <th>4335.0</th>\n",
       "      <td>Individual</td>\n",
       "      <td>Manual</td>\n",
       "      <td>Second Owner</td>\n",
       "      <td>Diesel</td>\n",
       "    </tr>\n",
       "    <tr>\n",
       "      <th>4336.0</th>\n",
       "      <td>Individual</td>\n",
       "      <td>Manual</td>\n",
       "      <td>Second Owner</td>\n",
       "      <td>Diesel</td>\n",
       "    </tr>\n",
       "    <tr>\n",
       "      <th>4337.0</th>\n",
       "      <td>Individual</td>\n",
       "      <td>Manual</td>\n",
       "      <td>Second Owner</td>\n",
       "      <td>Petrol</td>\n",
       "    </tr>\n",
       "    <tr>\n",
       "      <th>4338.0</th>\n",
       "      <td>Individual</td>\n",
       "      <td>Manual</td>\n",
       "      <td>First Owner</td>\n",
       "      <td>Diesel</td>\n",
       "    </tr>\n",
       "    <tr>\n",
       "      <th>4339.0</th>\n",
       "      <td>Individual</td>\n",
       "      <td>Manual</td>\n",
       "      <td>First Owner</td>\n",
       "      <td>Petrol</td>\n",
       "    </tr>\n",
       "  </tbody>\n",
       "</table>\n",
       "<p>3886 rows × 4 columns</p>\n",
       "</div>"
      ],
      "text/plain": [
       "       seller_type transmission         Owner    fuel\n",
       "0.0     Individual       Manual   First Owner  Petrol\n",
       "1.0     Individual       Manual   First Owner  Petrol\n",
       "2.0     Individual       Manual   First Owner  Diesel\n",
       "3.0     Individual       Manual   First Owner  Petrol\n",
       "4.0     Individual       Manual  Second Owner  Diesel\n",
       "...            ...          ...           ...     ...\n",
       "4335.0  Individual       Manual  Second Owner  Diesel\n",
       "4336.0  Individual       Manual  Second Owner  Diesel\n",
       "4337.0  Individual       Manual  Second Owner  Petrol\n",
       "4338.0  Individual       Manual   First Owner  Diesel\n",
       "4339.0  Individual       Manual   First Owner  Petrol\n",
       "\n",
       "[3886 rows x 4 columns]"
      ]
     },
     "execution_count": 114,
     "metadata": {},
     "output_type": "execute_result"
    }
   ],
   "source": [
    "numerical = df1_cleaned[[ 'year', 'km_driven', 'selling_price']]\n",
    "categorical =  df1_cleaned[['seller_type' , 'transmission' , 'Owner', 'fuel' ]]\n",
    "numerical\n",
    "categorical"
   ]
  },
  {
   "cell_type": "code",
   "execution_count": 116,
   "id": "7bb02a1d-b3e3-48ac-8865-81f6be902a6c",
   "metadata": {},
   "outputs": [
    {
     "name": "stdout",
     "output_type": "stream",
     "text": [
      "                   year  km_driven  selling_price\n",
      "year           1.000000  -0.409349       0.419222\n",
      "km_driven     -0.409349   1.000000      -0.188057\n",
      "selling_price  0.419222  -0.188057       1.000000\n"
     ]
    },
    {
     "data": {
      "image/png": "[encoded data removed]",
      "text/plain": [
       "<Figure size 800x600 with 2 Axes>"
      ]
     },
     "metadata": {},
     "output_type": "display_data"
    }
   ],
   "source": [
    "correlation_matrix = numerical.corr()\n",
    "print(correlation_matrix)\n",
    "# Create a heatmap using Seaborn\n",
    "plt.figure(figsize=(8, 6))\n",
    "sns.heatmap(correlation_matrix, annot=True, fmt=\".2f\", cmap='coolwarm', linewidths=0.5, cbar=True)\n",
    "\n",
    "# Title and labels\n",
    "plt.title('Correlation Matrix', fontsize=16)\n",
    "plt.xticks(fontsize=12)\n",
    "plt.yticks(fontsize=12)\n",
    "\n",
    "# Show the plot\n",
    "plt.show()"
   ]
  },
  {
   "cell_type": "code",
   "execution_count": 82,
   "id": "c3ece174-b982-4564-8349-9ec50462aba4",
   "metadata": {},
   "outputs": [
    {
     "name": "stderr",
     "output_type": "stream",
     "text": [
      "C:\\Users\\ADMIN\\AppData\\Local\\Temp\\ipykernel_13796\\3681206017.py:5: FutureWarning: \n",
      "\n",
      "Passing `palette` without assigning `hue` is deprecated and will be removed in v0.14.0. Assign the `x` variable to `hue` and set `legend=False` for the same effect.\n",
      "\n",
      "  sns.boxplot(x='Owner', y='selling_price', data=df1_cleaned, palette='Set3')\n"
     ]
    },
    {
     "data": {
      "text/plain": [
       "Text(0.5, 0, 'Owner')"
      ]
     },
     "execution_count": 82,
     "metadata": {},
     "output_type": "execute_result"
    },
    {
     "data": {
      "image/png": "[encoded data removed]",
      "text/plain": [
       "<Figure size 1000x600 with 1 Axes>"
      ]
     },
     "metadata": {},
     "output_type": "display_data"
    }
   ],
   "source": [
    "# Boxplot for Owner vs Selling Price\n",
    "plt.figure(figsize=(10, 6))\n",
    "sns.boxplot(x='Owner', y='selling_price', data=df1_cleaned, palette='Set3')\n",
    "plt.title(\"Selling Price Distribution by Owner Type\")\n",
    "plt.ylabel(\"Selling Price\")\n",
    "plt.xlabel(\"Owner\")"
   ]
  },
  {
   "cell_type": "code",
   "execution_count": 84,
   "id": "75568142-d73f-407d-9fae-d815f104fdae",
   "metadata": {},
   "outputs": [
    {
     "name": "stderr",
     "output_type": "stream",
     "text": [
      "C:\\Users\\ADMIN\\AppData\\Local\\Temp\\ipykernel_13796\\1566798904.py:3: FutureWarning: \n",
      "\n",
      "Passing `palette` without assigning `hue` is deprecated and will be removed in v0.14.0. Assign the `x` variable to `hue` and set `legend=False` for the same effect.\n",
      "\n",
      "  sns.boxplot(x='fuel', y='selling_price', data=df1_cleaned, palette='Set2')\n"
     ]
    },
    {
     "data": {
      "text/plain": [
       "Text(0.5, 0, 'Fuel Type')"
      ]
     },
     "execution_count": 84,
     "metadata": {},
     "output_type": "execute_result"
    },
    {
     "data": {
      "image/png": "[encoded data removed]",
      "text/plain": [
       "<Figure size 1000x600 with 1 Axes>"
      ]
     },
     "metadata": {},
     "output_type": "display_data"
    }
   ],
   "source": [
    "# 2. Boxplot for Fuel Type vs. Selling Price\n",
    "plt.figure(figsize=(10, 6))\n",
    "sns.boxplot(x='fuel', y='selling_price', data=df1_cleaned, palette='Set2')\n",
    "plt.title(\"Selling Price Distribution by Fuel Type\")\n",
    "plt.ylabel(\"Selling Price\")\n",
    "plt.xlabel(\"Fuel Type\")"
   ]
  },
  {
   "cell_type": "code",
   "execution_count": 118,
   "id": "9f72296f-7e97-426b-910c-1afebaa024eb",
   "metadata": {},
   "outputs": [
    {
     "name": "stderr",
     "output_type": "stream",
     "text": [
      "C:\\Users\\ADMIN\\AppData\\Local\\Temp\\ipykernel_13796\\3567289543.py:3: FutureWarning: \n",
      "\n",
      "Passing `palette` without assigning `hue` is deprecated and will be removed in v0.14.0. Assign the `x` variable to `hue` and set `legend=False` for the same effect.\n",
      "\n",
      "  sns.boxplot(x='transmission', y='selling_price', data=df1_cleaned, palette='Set2')\n"
     ]
    },
    {
     "data": {
      "text/plain": [
       "Text(0.5, 0, 'Transmission')"
      ]
     },
     "execution_count": 118,
     "metadata": {},
     "output_type": "execute_result"
    },
    {
     "data": {
      "image/png": "[encoded data removed]",
      "text/plain": [
       "<Figure size 1000x600 with 1 Axes>"
      ]
     },
     "metadata": {},
     "output_type": "display_data"
    }
   ],
   "source": [
    "# 3. Boxplot for transmission vs. Selling Price\n",
    "plt.figure(figsize=(10, 6))\n",
    "sns.boxplot(x='transmission', y='selling_price', data=df1_cleaned, palette='Set2')\n",
    "plt.title(\"Selling Price Distribution by transmission\")\n",
    "plt.ylabel(\"Selling Price\")\n",
    "plt.xlabel(\"Transmission\")"
   ]
  },
  {
   "cell_type": "code",
   "execution_count": 122,
   "id": "988b7766-3d03-4a70-ba6b-d430aa657663",
   "metadata": {},
   "outputs": [
    {
     "name": "stderr",
     "output_type": "stream",
     "text": [
      "C:\\Users\\ADMIN\\AppData\\Local\\Temp\\ipykernel_13796\\4129858119.py:3: FutureWarning: \n",
      "\n",
      "Passing `palette` without assigning `hue` is deprecated and will be removed in v0.14.0. Assign the `x` variable to `hue` and set `legend=False` for the same effect.\n",
      "\n",
      "  sns.boxplot(x='seller_type', y='selling_price', data=df1_cleaned, palette='Set2')\n"
     ]
    },
    {
     "data": {
      "text/plain": [
       "Text(0.5, 0, 'Seller Type')"
      ]
     },
     "execution_count": 122,
     "metadata": {},
     "output_type": "execute_result"
    },
    {
     "data": {
      "image/png": "[encoded data removed]",
      "text/plain": [
       "<Figure size 1000x600 with 1 Axes>"
      ]
     },
     "metadata": {},
     "output_type": "display_data"
    }
   ],
   "source": [
    "# 4. Boxplot for Seller Type vs. Selling Price\n",
    "plt.figure(figsize=(10, 6))\n",
    "sns.boxplot(x='seller_type', y='selling_price', data=df1_cleaned, palette='Set2')\n",
    "plt.title(\"Selling Price Distribution by Seller Type\")\n",
    "plt.ylabel(\"Selling Price\")\n",
    "plt.xlabel(\"Seller Type\")"
   ]
  },
  {
   "cell_type": "markdown",
   "id": "TxD3SLxRqndR",
   "metadata": {
    "id": "TxD3SLxRqndR"
   },
   "source": [
    "## Q4. Detect and remove outliers\n",
    "\n",
    "We define car sale records WITHOUT following ANY of the below three rules as outliers:\n",
    "\n",
    "1. owner to be first, second and third owner only\n",
    "2. Fuel to be Diesel or Petrol only\n",
    "3. Seller_type to be dealer or individual only\n",
    "\n",
    "Please remove the corresponding records in the csv file that is not qualified with the rules. After that, __print the length of the data__."
   ]
  },
  {
   "cell_type": "code",
   "execution_count": 141,
   "id": "60107882-245b-44e3-9853-e9eec6a8ae2f",
   "metadata": {},
   "outputs": [],
   "source": [
    "#1. owner to be first, second and third owner only\n",
    "filtered_df1_cleaned=  df1_cleaned[df1_cleaned['Owner'].isin(['First Owner' ,'Second Owner', 'Third Owner'])]\n",
    "filtered_df1_cleaned\n",
    "\n",
    "# 2. Fuel to be Diesel or Petrol only\n",
    "filtered_df1_cleaned_2 = filtered_df1_cleaned[filtered_df1_cleaned['fuel'].isin(['Diesel', 'Petrol'])]\n",
    "filtered_df1_cleaned_2\n",
    "\n",
    "# 3. Seller_type to be dealer or individual only\n",
    "filtered_df1_cleaned_3 = filtered_df1_cleaned_2[filtered_df1_cleaned_2['seller_type'].isin(['Dealer', 'Individual'])]\n",
    "filtered_df1_cleaned_3\n",
    "\n",
    "unique = filtered_df1_cleaned_3.nunique()"
   ]
  },
  {
   "cell_type": "code",
   "execution_count": 143,
   "id": "9793c86a-6ba3-4075-a425-f17ef3b16113",
   "metadata": {},
   "outputs": [
    {
     "data": {
      "text/plain": [
       "name             1330\n",
       "year               26\n",
       "selling_price     412\n",
       "km_driven         666\n",
       "fuel                2\n",
       "seller_type         2\n",
       "transmission        2\n",
       "Owner               3\n",
       "dtype: int64"
      ]
     },
     "execution_count": 143,
     "metadata": {},
     "output_type": "execute_result"
    }
   ],
   "source": [
    "unique\n"
   ]
  },
  {
   "cell_type": "code",
   "execution_count": 156,
   "id": "e5083abd-b21e-4767-afd0-a3c7a0ce3423",
   "metadata": {},
   "outputs": [
    {
     "name": "stdout",
     "output_type": "stream",
     "text": [
      "Length of the data: 3657\n"
     ]
    }
   ],
   "source": [
    "print(\"Length of the data:\", len(filtered_df1_cleaned_3))"
   ]
  },
  {
   "cell_type": "code",
   "execution_count": null,
   "id": "d1b4a402-1f62-4795-8e23-b526d0f06f4a",
   "metadata": {},
   "outputs": [],
   "source": []
  }
 ],
 "metadata": {
  "colab": {
   "provenance": []
  },
  "kernelspec": {
   "display_name": "Python 3 (ipykernel)",
   "language": "python",
   "name": "python3"
  },
  "language_info": {
   "codemirror_mode": {
    "name": "ipython",
    "version": 3
   },
   "file_extension": ".py",
   "mimetype": "text/x-python",
   "name": "python",
   "nbconvert_exporter": "python",
   "pygments_lexer": "ipython3",
   "version": "3.12.4"
  }
 },
 "nbformat": 4,
 "nbformat_minor": 5
}
